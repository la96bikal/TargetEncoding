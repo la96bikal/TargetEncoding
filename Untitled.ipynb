{
 "cells": [
  {
   "cell_type": "code",
   "execution_count": 109,
   "metadata": {},
   "outputs": [],
   "source": [
    "import pandas as pd\n"
   ]
  },
  {
   "cell_type": "code",
   "execution_count": 110,
   "metadata": {},
   "outputs": [],
   "source": [
    "data = pd.read_csv('vgsales.csv')"
   ]
  },
  {
   "cell_type": "code",
   "execution_count": 111,
   "metadata": {},
   "outputs": [],
   "source": [
    "target = data['NA_Sales'].tolist()"
   ]
  },
  {
   "cell_type": "code",
   "execution_count": 112,
   "metadata": {},
   "outputs": [],
   "source": [
    "pl = data['Platform'].tolist()"
   ]
  },
  {
   "cell_type": "code",
   "execution_count": 113,
   "metadata": {},
   "outputs": [
    {
     "name": "stdout",
     "output_type": "stream",
     "text": [
      "Wi\n"
     ]
    }
   ],
   "source": [
    "a = \"Bikal\"\n",
    "print(data.loc[2]['Platform'][:2])"
   ]
  },
  {
   "cell_type": "code",
   "execution_count": 114,
   "metadata": {},
   "outputs": [
    {
     "name": "stderr",
     "output_type": "stream",
     "text": [
      "C:\\Users\\Bikal\\Anaconda3\\lib\\site-packages\\ipykernel_launcher.py:5: FutureWarning: set_value is deprecated and will be removed in a future release. Please use .at[] or .iat[] accessors instead\n",
      "  \"\"\"\n",
      "C:\\Users\\Bikal\\Anaconda3\\lib\\site-packages\\ipykernel_launcher.py:3: FutureWarning: set_value is deprecated and will be removed in a future release. Please use .at[] or .iat[] accessors instead\n",
      "  This is separate from the ipykernel package so we can avoid doing imports until\n"
     ]
    }
   ],
   "source": [
    "for i in range(len(pl)):\n",
    "    if(data.loc[i]['Platform'][:2]==\"PS\"):\n",
    "        data.set_value(i,'Platform','PS')\n",
    "    if(data.loc[i]['Platform'][0] == \"X\"):\n",
    "        data.set_value(i,'Platform',\"XBOX\")"
   ]
  },
  {
   "cell_type": "code",
   "execution_count": 115,
   "metadata": {},
   "outputs": [
    {
     "name": "stdout",
     "output_type": "stream",
     "text": [
      "['GB', '2600', 'GBA', 'DS', 'PC', 'GC', 'GEN', '3DS', 'SAT', 'N64', 'TG16', '3DO', 'NES', 'NG', 'WiiU', 'SCD', 'SNES', 'DC', 'PCFX', 'XBOX', 'Wii', 'WS', 'GG', 'PS']\n"
     ]
    }
   ],
   "source": [
    "Platform_list = list(set(data['Platform'].tolist()))\n",
    "print(Platform_list)"
   ]
  },
  {
   "cell_type": "code",
   "execution_count": null,
   "metadata": {},
   "outputs": [],
   "source": []
  },
  {
   "cell_type": "code",
   "execution_count": 116,
   "metadata": {},
   "outputs": [],
   "source": [
    "\n",
    "\n",
    "def Average_Cal(word):\n",
    "    Average_list = list()\n",
    "    sum = 0\n",
    "    for i in range(len(pl)):\n",
    "        if data.loc[i]['Platform']==word:\n",
    "            Average_list.append(data.loc[i]['NA_Sales'])\n",
    "    for l in Average_list:\n",
    "        sum+=l\n",
    "    return sum/len(Average_list)\n",
    "            \n",
    "            \n",
    "    "
   ]
  },
  {
   "cell_type": "code",
   "execution_count": 129,
   "metadata": {},
   "outputs": [],
   "source": [
    "def AllDict(Platform_list):\n",
    "    EDict = dict()\n",
    "    for word in Platform_list:        \n",
    "        EDict[word] = Average_Cal(word)\n",
    "    return EDict"
   ]
  },
  {
   "cell_type": "code",
   "execution_count": 130,
   "metadata": {},
   "outputs": [],
   "source": [
    "data = AllDict(Platform_list)"
   ]
  },
  {
   "cell_type": "code",
   "execution_count": 131,
   "metadata": {},
   "outputs": [
    {
     "name": "stdout",
     "output_type": "stream",
     "text": [
      "{'GB': 1.166530612244898, '2600': 0.6812030075187964, 'GBA': 0.2281508515815089, 'DS': 0.18063337956541733, 'PC': 0.09716666666666719, 'GC': 0.24003597122302164, 'GEN': 0.7137037037037037, '3DS': 0.15495088408644395, 'SAT': 0.0041618497109826595, 'N64': 0.43579937304075284, 'TG16': 0.0, '3DO': 0.0, 'NES': 1.2851020408163272, 'NG': 0.0, 'WiiU': 0.2679720279720279, 'SCD': 0.16666666666666666, 'SNES': 0.25619246861924677, 'DC': 0.10442307692307692, 'PCFX': 0.0, 'XBOX': 0.378336229365767, 'Wii': 0.3831773584905654, 'WS': 0.0, 'GG': 0.0, 'PS': 0.2308363417569094}\n"
     ]
    }
   ],
   "source": []
  },
  {
   "cell_type": "code",
   "execution_count": null,
   "metadata": {},
   "outputs": [],
   "source": []
  }
 ],
 "metadata": {
  "kernelspec": {
   "display_name": "Python 3",
   "language": "python",
   "name": "python3"
  },
  "language_info": {
   "codemirror_mode": {
    "name": "ipython",
    "version": 3
   },
   "file_extension": ".py",
   "mimetype": "text/x-python",
   "name": "python",
   "nbconvert_exporter": "python",
   "pygments_lexer": "ipython3",
   "version": "3.6.4"
  }
 },
 "nbformat": 4,
 "nbformat_minor": 2
}
